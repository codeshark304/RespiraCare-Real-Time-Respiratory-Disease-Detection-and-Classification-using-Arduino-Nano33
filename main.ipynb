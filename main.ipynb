{
 "cells": [
  {
   "cell_type": "code",
   "execution_count": 2,
   "id": "5ac611cb-861c-413b-9293-0b8e4f16ad5d",
   "metadata": {},
   "outputs": [
    {
     "name": "stdout",
     "output_type": "stream",
     "text": [
      "Requirement already satisfied: librosa in c:\\users\\monish kiran\\anaconda3\\lib\\site-packages (0.11.0)\n",
      "Requirement already satisfied: audioread>=2.1.9 in c:\\users\\monish kiran\\anaconda3\\lib\\site-packages (from librosa) (3.0.1)\n",
      "Requirement already satisfied: numba>=0.51.0 in c:\\users\\monish kiran\\anaconda3\\lib\\site-packages (from librosa) (0.60.0)\n",
      "Requirement already satisfied: numpy>=1.22.3 in c:\\users\\monish kiran\\anaconda3\\lib\\site-packages (from librosa) (1.26.4)\n",
      "Requirement already satisfied: scipy>=1.6.0 in c:\\users\\monish kiran\\anaconda3\\lib\\site-packages (from librosa) (1.13.1)\n",
      "Requirement already satisfied: scikit-learn>=1.1.0 in c:\\users\\monish kiran\\anaconda3\\lib\\site-packages (from librosa) (1.5.1)\n",
      "Requirement already satisfied: joblib>=1.0 in c:\\users\\monish kiran\\anaconda3\\lib\\site-packages (from librosa) (1.4.2)\n",
      "Requirement already satisfied: decorator>=4.3.0 in c:\\users\\monish kiran\\anaconda3\\lib\\site-packages (from librosa) (5.1.1)\n",
      "Requirement already satisfied: soundfile>=0.12.1 in c:\\users\\monish kiran\\anaconda3\\lib\\site-packages (from librosa) (0.13.1)\n",
      "Requirement already satisfied: pooch>=1.1 in c:\\users\\monish kiran\\anaconda3\\lib\\site-packages (from librosa) (1.8.2)\n",
      "Requirement already satisfied: soxr>=0.3.2 in c:\\users\\monish kiran\\anaconda3\\lib\\site-packages (from librosa) (0.5.0.post1)\n",
      "Requirement already satisfied: typing_extensions>=4.1.1 in c:\\users\\monish kiran\\appdata\\roaming\\python\\python312\\site-packages (from librosa) (4.12.2)\n",
      "Requirement already satisfied: lazy_loader>=0.1 in c:\\users\\monish kiran\\anaconda3\\lib\\site-packages (from librosa) (0.4)\n",
      "Requirement already satisfied: msgpack>=1.0 in c:\\users\\monish kiran\\anaconda3\\lib\\site-packages (from librosa) (1.0.3)\n",
      "Requirement already satisfied: packaging in c:\\users\\monish kiran\\anaconda3\\lib\\site-packages (from lazy_loader>=0.1->librosa) (24.1)\n",
      "Requirement already satisfied: llvmlite<0.44,>=0.43.0dev0 in c:\\users\\monish kiran\\anaconda3\\lib\\site-packages (from numba>=0.51.0->librosa) (0.43.0)\n",
      "Requirement already satisfied: platformdirs>=2.5.0 in c:\\users\\monish kiran\\anaconda3\\lib\\site-packages (from pooch>=1.1->librosa) (3.10.0)\n",
      "Requirement already satisfied: requests>=2.19.0 in c:\\users\\monish kiran\\anaconda3\\lib\\site-packages (from pooch>=1.1->librosa) (2.32.3)\n",
      "Requirement already satisfied: threadpoolctl>=3.1.0 in c:\\users\\monish kiran\\anaconda3\\lib\\site-packages (from scikit-learn>=1.1.0->librosa) (3.5.0)\n",
      "Requirement already satisfied: cffi>=1.0 in c:\\users\\monish kiran\\anaconda3\\lib\\site-packages (from soundfile>=0.12.1->librosa) (1.17.1)\n",
      "Requirement already satisfied: pycparser in c:\\users\\monish kiran\\anaconda3\\lib\\site-packages (from cffi>=1.0->soundfile>=0.12.1->librosa) (2.21)\n",
      "Requirement already satisfied: charset-normalizer<4,>=2 in c:\\users\\monish kiran\\anaconda3\\lib\\site-packages (from requests>=2.19.0->pooch>=1.1->librosa) (3.3.2)\n",
      "Requirement already satisfied: idna<4,>=2.5 in c:\\users\\monish kiran\\anaconda3\\lib\\site-packages (from requests>=2.19.0->pooch>=1.1->librosa) (3.7)\n",
      "Requirement already satisfied: urllib3<3,>=1.21.1 in c:\\users\\monish kiran\\anaconda3\\lib\\site-packages (from requests>=2.19.0->pooch>=1.1->librosa) (2.2.3)\n",
      "Requirement already satisfied: certifi>=2017.4.17 in c:\\users\\monish kiran\\anaconda3\\lib\\site-packages (from requests>=2.19.0->pooch>=1.1->librosa) (2024.8.30)\n"
     ]
    }
   ],
   "source": [
    "!pip install librosa"
   ]
  },
  {
   "cell_type": "code",
   "execution_count": 3,
   "id": "fc8db66e-fa7c-4a88-9515-f4d9fb7fe676",
   "metadata": {},
   "outputs": [],
   "source": [
    "import os\n",
    "import numpy as np\n",
    "import librosa\n",
    "import librosa.display\n",
    "import tensorflow as tf\n",
    "import matplotlib.pyplot as plt\n",
    "from sklearn.model_selection import train_test_split\n",
    "from sklearn.preprocessing import LabelEncoder\n",
    "from tensorflow.keras.utils import to_categorical\n",
    "from tensorflow.keras.models import Sequential\n",
    "from tensorflow.keras.layers import Conv2D, MaxPooling2D, Flatten, LSTM, Dense, Dropout, TimeDistributed, Reshape"
   ]
  },
  {
   "cell_type": "code",
   "execution_count": 4,
   "id": "71211494-290a-4b91-bfff-4b1d3b1d0da0",
   "metadata": {},
   "outputs": [],
   "source": [
    "# Load dataset path\n",
    "data_path = r\"C:\\Users\\Monish Kiran\\Desktop\\Monish Kiran\\Amrita\\Hackathon\\IIsc Banglore\\Respiratory disease prediction\\Respiratory_Sound_Database\\Respiratory_Sound_Database\"\n",
    "audio_path = r\"C:\\Users\\Monish Kiran\\Desktop\\Monish Kiran\\Amrita\\Hackathon\\IIsc Banglore\\Respiratory disease prediction\\Respiratory_Sound_Database\\Respiratory_Sound_Database\\audio_and_txt_files\"\n",
    "metadata_file = r\"C:\\Users\\Monish Kiran\\Desktop\\Monish Kiran\\Amrita\\Hackathon\\IIsc Banglore\\Respiratory disease prediction\\Respiratory_Sound_Database\\Respiratory_Sound_Database\\patient_diagnosis.csv\""
   ]
  },
  {
   "cell_type": "code",
   "execution_count": 5,
   "id": "06bc9d75-686d-4478-b84a-79f0623a8828",
   "metadata": {},
   "outputs": [
    {
     "name": "stdout",
     "output_type": "stream",
     "text": [
      "     0        1\n",
      "0  101     URTI\n",
      "1  102  Healthy\n",
      "2  103   Asthma\n",
      "3  104     COPD\n",
      "4  105     URTI\n",
      "(126, 2)\n"
     ]
    }
   ],
   "source": [
    "import pandas as pd\n",
    "df = pd.read_csv(metadata_file, header=None)\n",
    "print(df.head())  # Display first few rows\n",
    "print(df.shape)   # Check number of rows and columns"
   ]
  },
  {
   "cell_type": "code",
   "execution_count": 6,
   "id": "13148fee-1426-4274-8650-98f6d53f26bd",
   "metadata": {},
   "outputs": [
    {
     "name": "stdout",
     "output_type": "stream",
     "text": [
      "['.ipynb_checkpoints', '101_1b1_Al_sc_Meditron.txt', '101_1b1_Al_sc_Meditron.wav', '101_1b1_Pr_sc_Meditron.txt', '101_1b1_Pr_sc_Meditron.wav', '102_1b1_Ar_sc_Meditron.txt', '102_1b1_Ar_sc_Meditron.wav', '103_2b2_Ar_mc_LittC2SE.txt', '103_2b2_Ar_mc_LittC2SE.wav', '104_1b1_Al_sc_Litt3200.txt']\n"
     ]
    }
   ],
   "source": [
    "files = os.listdir(audio_path)\n",
    "print(files[:10])  # Print first 10 files to verify .wav files exist"
   ]
  },
  {
   "cell_type": "code",
   "execution_count": 7,
   "id": "238b2df4-2f2b-4680-85b4-69e5a4d3ed58",
   "metadata": {},
   "outputs": [
    {
     "name": "stdout",
     "output_type": "stream",
     "text": [
      "Extracted ID: 101\n",
      "Is ID in CSV? Yes\n"
     ]
    }
   ],
   "source": [
    "sample_wav = \"101_1b1_Al_sc_Meditron.wav\"  # Replace with actual file name\n",
    "extracted_id = sample_wav.split(\"_\")[0]\n",
    "\n",
    "csv_patient_ids = df[0].astype(str).tolist()  # Convert to string for comparison\n",
    "print(f\"Extracted ID: {extracted_id}\")\n",
    "print(f\"Is ID in CSV? {'Yes' if extracted_id in csv_patient_ids else 'No'}\")\n"
   ]
  },
  {
   "cell_type": "code",
   "execution_count": 8,
   "id": "3071096e-0038-4f8c-a180-34890975b8ff",
   "metadata": {},
   "outputs": [
    {
     "name": "stdout",
     "output_type": "stream",
     "text": [
      "['101', 'URTI']\n",
      "['102', 'Healthy']\n",
      "['103', 'Asthma']\n",
      "['104', 'COPD']\n",
      "['105', 'URTI']\n",
      "['106', 'COPD']\n",
      "['107', 'COPD']\n",
      "['108', 'LRTI']\n",
      "['109', 'COPD']\n",
      "['110', 'COPD']\n",
      "['111', 'Bronchiectasis']\n",
      "['112', 'COPD']\n",
      "['113', 'COPD']\n",
      "['114', 'COPD']\n",
      "['115', 'LRTI']\n",
      "['116', 'Bronchiectasis']\n",
      "['117', 'COPD']\n",
      "['118', 'COPD']\n",
      "['119', 'URTI']\n",
      "['120', 'COPD']\n",
      "['121', 'Healthy']\n",
      "['122', 'Pneumonia']\n",
      "['123', 'Healthy']\n",
      "['124', 'COPD']\n",
      "['125', 'Healthy']\n",
      "['126', 'Healthy']\n",
      "['127', 'Healthy']\n",
      "['128', 'COPD']\n",
      "['129', 'URTI']\n",
      "['130', 'COPD']\n",
      "['131', 'URTI']\n",
      "['132', 'COPD']\n",
      "['133', 'COPD']\n",
      "['134', 'COPD']\n",
      "['135', 'Pneumonia']\n",
      "['136', 'Healthy']\n",
      "['137', 'URTI']\n",
      "['138', 'COPD']\n",
      "['139', 'COPD']\n",
      "['140', 'Pneumonia']\n",
      "['141', 'COPD']\n",
      "['142', 'COPD']\n",
      "['143', 'Healthy']\n",
      "['144', 'Healthy']\n",
      "['145', 'COPD']\n",
      "['146', 'COPD']\n",
      "['147', 'COPD']\n",
      "['148', 'URTI']\n",
      "['149', 'Bronchiolitis']\n",
      "['150', 'URTI']\n",
      "['151', 'COPD']\n",
      "['152', 'Healthy']\n",
      "['153', 'Healthy']\n",
      "['154', 'COPD']\n",
      "['155', 'COPD']\n",
      "['156', 'COPD']\n",
      "['157', 'COPD']\n",
      "['158', 'COPD']\n",
      "['159', 'Healthy']\n",
      "['160', 'COPD']\n",
      "['161', 'Bronchiolitis']\n",
      "['162', 'COPD']\n",
      "['163', 'COPD']\n",
      "['164', 'URTI']\n",
      "['165', 'URTI']\n",
      "['166', 'COPD']\n",
      "['167', 'Bronchiolitis']\n",
      "['168', 'Bronchiectasis']\n",
      "['169', 'Bronchiectasis']\n",
      "['170', 'COPD']\n",
      "['171', 'Healthy']\n",
      "['172', 'COPD']\n",
      "['173', 'Bronchiolitis']\n",
      "['174', 'COPD']\n",
      "['175', 'COPD']\n",
      "['176', 'COPD']\n",
      "['177', 'COPD']\n",
      "['178', 'COPD']\n",
      "['179', 'Healthy']\n",
      "['180', 'COPD']\n",
      "['181', 'COPD']\n",
      "['182', 'Healthy']\n",
      "['183', 'Healthy']\n",
      "['184', 'Healthy']\n",
      "['185', 'COPD']\n",
      "['186', 'COPD']\n",
      "['187', 'Healthy']\n",
      "['188', 'URTI']\n",
      "['189', 'COPD']\n",
      "['190', 'URTI']\n",
      "['191', 'Pneumonia']\n",
      "['192', 'COPD']\n",
      "['193', 'COPD']\n",
      "['194', 'Healthy']\n",
      "['195', 'COPD']\n",
      "['196', 'Bronchiectasis']\n",
      "['197', 'URTI']\n",
      "['198', 'COPD']\n",
      "['199', 'COPD']\n",
      "['200', 'COPD']\n",
      "['201', 'Bronchiectasis']\n",
      "['202', 'Healthy']\n",
      "['203', 'COPD']\n",
      "['204', 'COPD']\n",
      "['205', 'COPD']\n",
      "['206', 'Bronchiolitis']\n",
      "['207', 'COPD']\n",
      "['208', 'Healthy']\n",
      "['209', 'Healthy']\n",
      "['210', 'URTI']\n",
      "['211', 'COPD']\n",
      "['212', 'COPD']\n",
      "['213', 'COPD']\n",
      "['214', 'Healthy']\n",
      "['215', 'Bronchiectasis']\n",
      "['216', 'Bronchiolitis']\n",
      "['217', 'Healthy']\n",
      "['218', 'COPD']\n",
      "['219', 'Pneumonia']\n",
      "['220', 'COPD']\n",
      "['221', 'COPD']\n",
      "['222', 'COPD']\n",
      "['223', 'COPD']\n",
      "['224', 'Healthy']\n",
      "['225', 'Healthy']\n",
      "['226', 'Pneumonia']\n"
     ]
    }
   ],
   "source": [
    "#dataset_path = \"Respiratory_Sound_Database/Respiratory_Sound_Database\"\n",
    "#metadata_file = os.path.join(dataset_path, \"patient_diagnosis.csv\")\n",
    "\n",
    "# Now open the file correctly\n",
    "with open(metadata_file, \"r\") as file:\n",
    "    for line in file.readlines():\n",
    "        parts = line.strip().split(\",\")\n",
    "        print(parts)  # Check if it's reading correctly\n"
   ]
  },
  {
   "cell_type": "code",
   "execution_count": 9,
   "id": "06b2469a-5fbc-46c8-b27d-bbc6703fc8f8",
   "metadata": {},
   "outputs": [],
   "source": [
    "# Extract MFCC features\n",
    "def extract_features(file_path, max_pad_len=400):\n",
    "    signal, sr = librosa.load(file_path, sr=22050)\n",
    "    mfcc = librosa.feature.mfcc(y=signal, sr=sr, n_mfcc=40)\n",
    "    pad_width = max_pad_len - mfcc.shape[1]\n",
    "    if pad_width > 0:\n",
    "        mfcc = np.pad(mfcc, pad_width=((0, 0), (0, pad_width)), mode='constant')\n",
    "    else:\n",
    "        mfcc = mfcc[:, :max_pad_len]\n",
    "    return mfcc"
   ]
  },
  {
   "cell_type": "code",
   "execution_count": 10,
   "id": "74f55a08-5f01-44eb-af12-5430c863e595",
   "metadata": {},
   "outputs": [
    {
     "name": "stderr",
     "output_type": "stream",
     "text": [
      "C:\\Users\\Monish Kiran\\anaconda3\\Lib\\site-packages\\paramiko\\pkey.py:82: CryptographyDeprecationWarning: TripleDES has been moved to cryptography.hazmat.decrepit.ciphers.algorithms.TripleDES and will be removed from this module in 48.0.0.\n",
      "  \"cipher\": algorithms.TripleDES,\n",
      "C:\\Users\\Monish Kiran\\anaconda3\\Lib\\site-packages\\paramiko\\transport.py:219: CryptographyDeprecationWarning: Blowfish has been moved to cryptography.hazmat.decrepit.ciphers.algorithms.Blowfish and will be removed from this module in 45.0.0.\n",
      "  \"class\": algorithms.Blowfish,\n",
      "C:\\Users\\Monish Kiran\\anaconda3\\Lib\\site-packages\\paramiko\\transport.py:243: CryptographyDeprecationWarning: TripleDES has been moved to cryptography.hazmat.decrepit.ciphers.algorithms.TripleDES and will be removed from this module in 48.0.0.\n",
      "  \"class\": algorithms.TripleDES,\n"
     ]
    }
   ],
   "source": [
    "X, y = [], []\n",
    "for file in os.listdir(audio_path):\n",
    "    if file.endswith(\".wav\"):\n",
    "        patient_id = file.split(\"_\")[0]\n",
    "        if str(patient_id) in df[0].astype(str).values:  # Ensure string comparison\n",
    "            mfcc = extract_features(os.path.join(audio_path, file))\n",
    "            X.append(mfcc)\n",
    "            y.append(df[df[0].astype(str) == str(patient_id)][1].values[0])  # Get diagnosis\n"
   ]
  },
  {
   "cell_type": "code",
   "execution_count": 11,
   "id": "221b4a47-f774-446c-934c-991b269f9b1c",
   "metadata": {},
   "outputs": [],
   "source": [
    "# Convert to numpy array\n",
    "X = np.array(X)\n",
    "y = np.array(y)"
   ]
  },
  {
   "cell_type": "code",
   "execution_count": 12,
   "id": "28c42516-062d-43a2-aa84-d92717b500ba",
   "metadata": {},
   "outputs": [],
   "source": [
    "# Encode labels\n",
    "encoder = LabelEncoder()\n",
    "y = encoder.fit_transform(y)\n",
    "y = to_categorical(y)"
   ]
  },
  {
   "cell_type": "code",
   "execution_count": 13,
   "id": "dd37d619-efa0-47dc-bca2-c6c08dfef549",
   "metadata": {},
   "outputs": [],
   "source": [
    "# Reshape data for CNN-LSTM\n",
    "X = X[..., np.newaxis]  # Add channel dimension\n",
    "X = np.transpose(X, (0, 2, 1, 3))  # Reshape for LSTM processing\n",
    "X = X.reshape(X.shape[0], X.shape[1], X.shape[2])"
   ]
  },
  {
   "cell_type": "code",
   "execution_count": 14,
   "id": "55804891-c4b7-4c14-be0e-4d4b91a609c4",
   "metadata": {},
   "outputs": [],
   "source": [
    "# Train-test split\n",
    "X_train, X_test, y_train, y_test = train_test_split(X, y, test_size=0.2, random_state=42)"
   ]
  },
  {
   "cell_type": "code",
   "execution_count": 15,
   "id": "fae60ca4-f91f-4823-95bd-4124a83954b5",
   "metadata": {},
   "outputs": [
    {
     "name": "stdout",
     "output_type": "stream",
     "text": [
      "X shape: (920, 400, 40)\n"
     ]
    }
   ],
   "source": [
    "print(\"X shape:\", X.shape)"
   ]
  },
  {
   "cell_type": "code",
   "execution_count": 16,
   "id": "5b51b076-ca46-4e90-877c-34b719a7f07b",
   "metadata": {},
   "outputs": [
    {
     "name": "stdout",
     "output_type": "stream",
     "text": [
      "Possible image size: 6\n"
     ]
    }
   ],
   "source": [
    "possible_size = int(np.sqrt(X.shape[-1]))  # Try to infer width/height\n",
    "print(\"Possible image size:\", possible_size)"
   ]
  },
  {
   "cell_type": "code",
   "execution_count": 17,
   "id": "9c7531ff-42df-424f-aaa6-eb67a4ea347c",
   "metadata": {},
   "outputs": [
    {
     "name": "stderr",
     "output_type": "stream",
     "text": [
      "C:\\Users\\Monish Kiran\\anaconda3\\Lib\\site-packages\\keras\\src\\layers\\core\\wrapper.py:27: UserWarning: Do not pass an `input_shape`/`input_dim` argument to a layer. When using Sequential models, prefer using an `Input(shape)` object as the first layer in the model instead.\n",
      "  super().__init__(**kwargs)\n"
     ]
    },
    {
     "data": {
      "text/html": [
       "<pre style=\"white-space:pre;overflow-x:auto;line-height:normal;font-family:Menlo,'DejaVu Sans Mono',consolas,'Courier New',monospace\"><span style=\"font-weight: bold\">Model: \"sequential\"</span>\n",
       "</pre>\n"
      ],
      "text/plain": [
       "\u001b[1mModel: \"sequential\"\u001b[0m\n"
      ]
     },
     "metadata": {},
     "output_type": "display_data"
    },
    {
     "data": {
      "text/html": [
       "<pre style=\"white-space:pre;overflow-x:auto;line-height:normal;font-family:Menlo,'DejaVu Sans Mono',consolas,'Courier New',monospace\">┏━━━━━━━━━━━━━━━━━━━━━━━━━━━━━━━━━┳━━━━━━━━━━━━━━━━━━━━━━━━┳━━━━━━━━━━━━━━━┓\n",
       "┃<span style=\"font-weight: bold\"> Layer (type)                    </span>┃<span style=\"font-weight: bold\"> Output Shape           </span>┃<span style=\"font-weight: bold\">       Param # </span>┃\n",
       "┡━━━━━━━━━━━━━━━━━━━━━━━━━━━━━━━━━╇━━━━━━━━━━━━━━━━━━━━━━━━╇━━━━━━━━━━━━━━━┩\n",
       "│ time_distributed                │ (<span style=\"color: #00d7ff; text-decoration-color: #00d7ff\">None</span>, <span style=\"color: #00af00; text-decoration-color: #00af00\">400</span>, <span style=\"color: #00af00; text-decoration-color: #00af00\">40</span>, <span style=\"color: #00af00; text-decoration-color: #00af00\">32</span>)    │           <span style=\"color: #00af00; text-decoration-color: #00af00\">128</span> │\n",
       "│ (<span style=\"color: #0087ff; text-decoration-color: #0087ff\">TimeDistributed</span>)               │                        │               │\n",
       "├─────────────────────────────────┼────────────────────────┼───────────────┤\n",
       "│ time_distributed_1              │ (<span style=\"color: #00d7ff; text-decoration-color: #00d7ff\">None</span>, <span style=\"color: #00af00; text-decoration-color: #00af00\">400</span>, <span style=\"color: #00af00; text-decoration-color: #00af00\">20</span>, <span style=\"color: #00af00; text-decoration-color: #00af00\">32</span>)    │             <span style=\"color: #00af00; text-decoration-color: #00af00\">0</span> │\n",
       "│ (<span style=\"color: #0087ff; text-decoration-color: #0087ff\">TimeDistributed</span>)               │                        │               │\n",
       "├─────────────────────────────────┼────────────────────────┼───────────────┤\n",
       "│ time_distributed_2              │ (<span style=\"color: #00d7ff; text-decoration-color: #00d7ff\">None</span>, <span style=\"color: #00af00; text-decoration-color: #00af00\">400</span>, <span style=\"color: #00af00; text-decoration-color: #00af00\">640</span>)       │             <span style=\"color: #00af00; text-decoration-color: #00af00\">0</span> │\n",
       "│ (<span style=\"color: #0087ff; text-decoration-color: #0087ff\">TimeDistributed</span>)               │                        │               │\n",
       "├─────────────────────────────────┼────────────────────────┼───────────────┤\n",
       "│ lstm (<span style=\"color: #0087ff; text-decoration-color: #0087ff\">LSTM</span>)                     │ (<span style=\"color: #00d7ff; text-decoration-color: #00d7ff\">None</span>, <span style=\"color: #00af00; text-decoration-color: #00af00\">400</span>, <span style=\"color: #00af00; text-decoration-color: #00af00\">64</span>)        │       <span style=\"color: #00af00; text-decoration-color: #00af00\">180,480</span> │\n",
       "├─────────────────────────────────┼────────────────────────┼───────────────┤\n",
       "│ lstm_1 (<span style=\"color: #0087ff; text-decoration-color: #0087ff\">LSTM</span>)                   │ (<span style=\"color: #00d7ff; text-decoration-color: #00d7ff\">None</span>, <span style=\"color: #00af00; text-decoration-color: #00af00\">64</span>)             │        <span style=\"color: #00af00; text-decoration-color: #00af00\">33,024</span> │\n",
       "├─────────────────────────────────┼────────────────────────┼───────────────┤\n",
       "│ dense (<span style=\"color: #0087ff; text-decoration-color: #0087ff\">Dense</span>)                   │ (<span style=\"color: #00d7ff; text-decoration-color: #00d7ff\">None</span>, <span style=\"color: #00af00; text-decoration-color: #00af00\">32</span>)             │         <span style=\"color: #00af00; text-decoration-color: #00af00\">2,080</span> │\n",
       "├─────────────────────────────────┼────────────────────────┼───────────────┤\n",
       "│ dropout (<span style=\"color: #0087ff; text-decoration-color: #0087ff\">Dropout</span>)               │ (<span style=\"color: #00d7ff; text-decoration-color: #00d7ff\">None</span>, <span style=\"color: #00af00; text-decoration-color: #00af00\">32</span>)             │             <span style=\"color: #00af00; text-decoration-color: #00af00\">0</span> │\n",
       "├─────────────────────────────────┼────────────────────────┼───────────────┤\n",
       "│ dense_1 (<span style=\"color: #0087ff; text-decoration-color: #0087ff\">Dense</span>)                 │ (<span style=\"color: #00d7ff; text-decoration-color: #00d7ff\">None</span>, <span style=\"color: #00af00; text-decoration-color: #00af00\">8</span>)              │           <span style=\"color: #00af00; text-decoration-color: #00af00\">264</span> │\n",
       "└─────────────────────────────────┴────────────────────────┴───────────────┘\n",
       "</pre>\n"
      ],
      "text/plain": [
       "┏━━━━━━━━━━━━━━━━━━━━━━━━━━━━━━━━━┳━━━━━━━━━━━━━━━━━━━━━━━━┳━━━━━━━━━━━━━━━┓\n",
       "┃\u001b[1m \u001b[0m\u001b[1mLayer (type)                   \u001b[0m\u001b[1m \u001b[0m┃\u001b[1m \u001b[0m\u001b[1mOutput Shape          \u001b[0m\u001b[1m \u001b[0m┃\u001b[1m \u001b[0m\u001b[1m      Param #\u001b[0m\u001b[1m \u001b[0m┃\n",
       "┡━━━━━━━━━━━━━━━━━━━━━━━━━━━━━━━━━╇━━━━━━━━━━━━━━━━━━━━━━━━╇━━━━━━━━━━━━━━━┩\n",
       "│ time_distributed                │ (\u001b[38;5;45mNone\u001b[0m, \u001b[38;5;34m400\u001b[0m, \u001b[38;5;34m40\u001b[0m, \u001b[38;5;34m32\u001b[0m)    │           \u001b[38;5;34m128\u001b[0m │\n",
       "│ (\u001b[38;5;33mTimeDistributed\u001b[0m)               │                        │               │\n",
       "├─────────────────────────────────┼────────────────────────┼───────────────┤\n",
       "│ time_distributed_1              │ (\u001b[38;5;45mNone\u001b[0m, \u001b[38;5;34m400\u001b[0m, \u001b[38;5;34m20\u001b[0m, \u001b[38;5;34m32\u001b[0m)    │             \u001b[38;5;34m0\u001b[0m │\n",
       "│ (\u001b[38;5;33mTimeDistributed\u001b[0m)               │                        │               │\n",
       "├─────────────────────────────────┼────────────────────────┼───────────────┤\n",
       "│ time_distributed_2              │ (\u001b[38;5;45mNone\u001b[0m, \u001b[38;5;34m400\u001b[0m, \u001b[38;5;34m640\u001b[0m)       │             \u001b[38;5;34m0\u001b[0m │\n",
       "│ (\u001b[38;5;33mTimeDistributed\u001b[0m)               │                        │               │\n",
       "├─────────────────────────────────┼────────────────────────┼───────────────┤\n",
       "│ lstm (\u001b[38;5;33mLSTM\u001b[0m)                     │ (\u001b[38;5;45mNone\u001b[0m, \u001b[38;5;34m400\u001b[0m, \u001b[38;5;34m64\u001b[0m)        │       \u001b[38;5;34m180,480\u001b[0m │\n",
       "├─────────────────────────────────┼────────────────────────┼───────────────┤\n",
       "│ lstm_1 (\u001b[38;5;33mLSTM\u001b[0m)                   │ (\u001b[38;5;45mNone\u001b[0m, \u001b[38;5;34m64\u001b[0m)             │        \u001b[38;5;34m33,024\u001b[0m │\n",
       "├─────────────────────────────────┼────────────────────────┼───────────────┤\n",
       "│ dense (\u001b[38;5;33mDense\u001b[0m)                   │ (\u001b[38;5;45mNone\u001b[0m, \u001b[38;5;34m32\u001b[0m)             │         \u001b[38;5;34m2,080\u001b[0m │\n",
       "├─────────────────────────────────┼────────────────────────┼───────────────┤\n",
       "│ dropout (\u001b[38;5;33mDropout\u001b[0m)               │ (\u001b[38;5;45mNone\u001b[0m, \u001b[38;5;34m32\u001b[0m)             │             \u001b[38;5;34m0\u001b[0m │\n",
       "├─────────────────────────────────┼────────────────────────┼───────────────┤\n",
       "│ dense_1 (\u001b[38;5;33mDense\u001b[0m)                 │ (\u001b[38;5;45mNone\u001b[0m, \u001b[38;5;34m8\u001b[0m)              │           \u001b[38;5;34m264\u001b[0m │\n",
       "└─────────────────────────────────┴────────────────────────┴───────────────┘\n"
      ]
     },
     "metadata": {},
     "output_type": "display_data"
    },
    {
     "data": {
      "text/html": [
       "<pre style=\"white-space:pre;overflow-x:auto;line-height:normal;font-family:Menlo,'DejaVu Sans Mono',consolas,'Courier New',monospace\"><span style=\"font-weight: bold\"> Total params: </span><span style=\"color: #00af00; text-decoration-color: #00af00\">215,976</span> (843.66 KB)\n",
       "</pre>\n"
      ],
      "text/plain": [
       "\u001b[1m Total params: \u001b[0m\u001b[38;5;34m215,976\u001b[0m (843.66 KB)\n"
      ]
     },
     "metadata": {},
     "output_type": "display_data"
    },
    {
     "data": {
      "text/html": [
       "<pre style=\"white-space:pre;overflow-x:auto;line-height:normal;font-family:Menlo,'DejaVu Sans Mono',consolas,'Courier New',monospace\"><span style=\"font-weight: bold\"> Trainable params: </span><span style=\"color: #00af00; text-decoration-color: #00af00\">215,976</span> (843.66 KB)\n",
       "</pre>\n"
      ],
      "text/plain": [
       "\u001b[1m Trainable params: \u001b[0m\u001b[38;5;34m215,976\u001b[0m (843.66 KB)\n"
      ]
     },
     "metadata": {},
     "output_type": "display_data"
    },
    {
     "data": {
      "text/html": [
       "<pre style=\"white-space:pre;overflow-x:auto;line-height:normal;font-family:Menlo,'DejaVu Sans Mono',consolas,'Courier New',monospace\"><span style=\"font-weight: bold\"> Non-trainable params: </span><span style=\"color: #00af00; text-decoration-color: #00af00\">0</span> (0.00 B)\n",
       "</pre>\n"
      ],
      "text/plain": [
       "\u001b[1m Non-trainable params: \u001b[0m\u001b[38;5;34m0\u001b[0m (0.00 B)\n"
      ]
     },
     "metadata": {},
     "output_type": "display_data"
    }
   ],
   "source": [
    "from tensorflow.keras.models import Sequential\n",
    "from tensorflow.keras.layers import Conv1D, MaxPooling1D, Flatten, LSTM, Dense, Dropout, TimeDistributed\n",
    "\n",
    "# Define CNN-LSTM Model\n",
    "model = Sequential([\n",
    "    TimeDistributed(Conv1D(32, 3, activation='relu', padding='same'), input_shape=(X.shape[1], X.shape[2], 1)),  \n",
    "    TimeDistributed(MaxPooling1D(2)),\n",
    "    TimeDistributed(Flatten()),\n",
    "    LSTM(64, return_sequences=True),\n",
    "    LSTM(64),\n",
    "    Dense(32, activation='relu'),\n",
    "    Dropout(0.5),\n",
    "    Dense(y.shape[1], activation='softmax')\n",
    "])\n",
    "\n",
    "model.summary()\n"
   ]
  },
  {
   "cell_type": "code",
   "execution_count": 18,
   "id": "8fea2f96-3d18-40ab-ba50-00be84cd7ca6",
   "metadata": {},
   "outputs": [],
   "source": [
    "# Compile model\n",
    "model.compile(loss='categorical_crossentropy', optimizer='adam', metrics=['accuracy'])"
   ]
  },
  {
   "cell_type": "code",
   "execution_count": 19,
   "id": "4bccbff0-5f84-472a-9d71-325dde1b6836",
   "metadata": {},
   "outputs": [
    {
     "name": "stdout",
     "output_type": "stream",
     "text": [
      "Epoch 1/10\n",
      "\u001b[1m23/23\u001b[0m \u001b[32m━━━━━━━━━━━━━━━━━━━━\u001b[0m\u001b[37m\u001b[0m \u001b[1m432s\u001b[0m 17s/step - accuracy: 0.5985 - loss: 1.3890 - val_accuracy: 0.8152 - val_loss: 0.8608\n",
      "Epoch 2/10\n",
      "\u001b[1m23/23\u001b[0m \u001b[32m━━━━━━━━━━━━━━━━━━━━\u001b[0m\u001b[37m\u001b[0m \u001b[1m342s\u001b[0m 15s/step - accuracy: 0.8794 - loss: 0.6615 - val_accuracy: 0.8152 - val_loss: 0.6659\n",
      "Epoch 3/10\n",
      "\u001b[1m23/23\u001b[0m \u001b[32m━━━━━━━━━━━━━━━━━━━━\u001b[0m\u001b[37m\u001b[0m \u001b[1m342s\u001b[0m 15s/step - accuracy: 0.8621 - loss: 0.6500 - val_accuracy: 0.8152 - val_loss: 0.8440\n",
      "Epoch 4/10\n",
      "\u001b[1m23/23\u001b[0m \u001b[32m━━━━━━━━━━━━━━━━━━━━\u001b[0m\u001b[37m\u001b[0m \u001b[1m388s\u001b[0m 17s/step - accuracy: 0.8631 - loss: 0.6786 - val_accuracy: 0.8152 - val_loss: 0.5997\n",
      "Epoch 5/10\n",
      "\u001b[1m23/23\u001b[0m \u001b[32m━━━━━━━━━━━━━━━━━━━━\u001b[0m\u001b[37m\u001b[0m \u001b[1m386s\u001b[0m 17s/step - accuracy: 0.8636 - loss: 0.6610 - val_accuracy: 0.8152 - val_loss: 0.7320\n",
      "Epoch 6/10\n",
      "\u001b[1m23/23\u001b[0m \u001b[32m━━━━━━━━━━━━━━━━━━━━\u001b[0m\u001b[37m\u001b[0m \u001b[1m380s\u001b[0m 16s/step - accuracy: 0.8737 - loss: 0.5487 - val_accuracy: 0.8152 - val_loss: 0.6160\n",
      "Epoch 7/10\n",
      "\u001b[1m23/23\u001b[0m \u001b[32m━━━━━━━━━━━━━━━━━━━━\u001b[0m\u001b[37m\u001b[0m \u001b[1m371s\u001b[0m 16s/step - accuracy: 0.8789 - loss: 0.5073 - val_accuracy: 0.8152 - val_loss: 0.6059\n",
      "Epoch 8/10\n",
      "\u001b[1m23/23\u001b[0m \u001b[32m━━━━━━━━━━━━━━━━━━━━\u001b[0m\u001b[37m\u001b[0m \u001b[1m348s\u001b[0m 15s/step - accuracy: 0.8773 - loss: 0.5612 - val_accuracy: 0.8152 - val_loss: 0.6459\n",
      "Epoch 9/10\n",
      "\u001b[1m23/23\u001b[0m \u001b[32m━━━━━━━━━━━━━━━━━━━━\u001b[0m\u001b[37m\u001b[0m \u001b[1m362s\u001b[0m 16s/step - accuracy: 0.8919 - loss: 0.4534 - val_accuracy: 0.8152 - val_loss: 0.5820\n",
      "Epoch 10/10\n",
      "\u001b[1m23/23\u001b[0m \u001b[32m━━━━━━━━━━━━━━━━━━━━\u001b[0m\u001b[37m\u001b[0m \u001b[1m346s\u001b[0m 15s/step - accuracy: 0.8883 - loss: 0.6069 - val_accuracy: 0.8152 - val_loss: 0.7909\n"
     ]
    }
   ],
   "source": [
    "# Train model\n",
    "history = model.fit(X_train, y_train, epochs=10, batch_size=32, validation_data=(X_test, y_test))"
   ]
  },
  {
   "cell_type": "code",
   "execution_count": null,
   "id": "e1ac67ff-fdc0-484a-9993-c76b191a84b6",
   "metadata": {},
   "outputs": [],
   "source": [
    "# Evaluate model\n",
    "loss, acc = model.evaluate(X_test, y_test)\n",
    "print(f\"Test Accuracy: {acc * 100:.2f}%\")"
   ]
  },
  {
   "cell_type": "code",
   "execution_count": null,
   "id": "389e8b7d-2792-4175-843d-14ced23facde",
   "metadata": {},
   "outputs": [],
   "source": []
  },
  {
   "cell_type": "code",
   "execution_count": null,
   "id": "1413f53d-5be0-4646-a778-72b892f778e3",
   "metadata": {},
   "outputs": [],
   "source": []
  },
  {
   "cell_type": "code",
   "execution_count": null,
   "id": "6b16f999-5006-4b3c-8b64-b8cb5fa0d81e",
   "metadata": {},
   "outputs": [],
   "source": []
  }
 ],
 "metadata": {
  "kernelspec": {
   "display_name": "Python 3 (ipykernel)",
   "language": "python",
   "name": "python3"
  },
  "language_info": {
   "codemirror_mode": {
    "name": "ipython",
    "version": 3
   },
   "file_extension": ".py",
   "mimetype": "text/x-python",
   "name": "python",
   "nbconvert_exporter": "python",
   "pygments_lexer": "ipython3",
   "version": "3.12.7"
  }
 },
 "nbformat": 4,
 "nbformat_minor": 5
}
